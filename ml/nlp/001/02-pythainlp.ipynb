{
  "cells": [
    {
      "cell_type": "markdown",
      "metadata": {
        "colab_type": "text",
        "id": "view-in-github"
      },
      "source": [
        "<a href=\"https://colab.research.google.com/github/toche7/AI_ITM/blob/main/Lab11_Exampleofpythainlp.ipynb\" target=\"_parent\"><img src=\"https://colab.research.google.com/assets/colab-badge.svg\" alt=\"Open In Colab\"/></a>"
      ]
    },
    {
      "cell_type": "code",
      "execution_count": 1,
      "metadata": {
        "id": "NyWTAe3UILNe"
      },
      "outputs": [
        {
          "name": "stdout",
          "output_type": "stream",
          "text": [
            "Collecting pythainlp\n",
            "  Downloading pythainlp-5.1.0-py3-none-any.whl.metadata (8.0 kB)\n",
            "Requirement already satisfied: requests>=2.31 in /Users/natthawatboonchaiseree/.pyenv/versions/3.12.3/lib/python3.12/site-packages (from pythainlp) (2.32.3)\n",
            "Requirement already satisfied: charset-normalizer<4,>=2 in /Users/natthawatboonchaiseree/.pyenv/versions/3.12.3/lib/python3.12/site-packages (from requests>=2.31->pythainlp) (3.4.1)\n",
            "Requirement already satisfied: idna<4,>=2.5 in /Users/natthawatboonchaiseree/.pyenv/versions/3.12.3/lib/python3.12/site-packages (from requests>=2.31->pythainlp) (3.10)\n",
            "Requirement already satisfied: urllib3<3,>=1.21.1 in /Users/natthawatboonchaiseree/.pyenv/versions/3.12.3/lib/python3.12/site-packages (from requests>=2.31->pythainlp) (2.3.0)\n",
            "Requirement already satisfied: certifi>=2017.4.17 in /Users/natthawatboonchaiseree/.pyenv/versions/3.12.3/lib/python3.12/site-packages (from requests>=2.31->pythainlp) (2024.12.14)\n",
            "Downloading pythainlp-5.1.0-py3-none-any.whl (19.3 MB)\n",
            "\u001b[2K   \u001b[90m━━━━━━━━━━━━━━━━━━━━━━━━━━━━━━━━━━━━━━━━\u001b[0m \u001b[32m19.3/19.3 MB\u001b[0m \u001b[31m31.8 MB/s\u001b[0m eta \u001b[36m0:00:00\u001b[0m00:01\u001b[0m0:01\u001b[0m\n",
            "\u001b[?25hInstalling collected packages: pythainlp\n",
            "Successfully installed pythainlp-5.1.0\n"
          ]
        }
      ],
      "source": [
        "!pip install pythainlp"
      ]
    },
    {
      "cell_type": "code",
      "execution_count": 2,
      "metadata": {
        "id": "aHgWWSE8WW80"
      },
      "outputs": [
        {
          "data": {
            "text/plain": [
              "'สวัสดีครับ วันนี้อากาศดีมากกๆ'"
            ]
          },
          "execution_count": 2,
          "metadata": {},
          "output_type": "execute_result"
        }
      ],
      "source": [
        "from pythainlp import word_tokenize, pos_tag\n",
        "from pythainlp.corpus.common import thai_stopwords\n",
        "from pythainlp.util import normalize\n",
        "\n",
        "# Example Thai text\n",
        "text = \"สวัสดีครับ วันนี้อากาศดีมากกๆ\"\n",
        "\n",
        "# Cleaning: Normalize the text to ensure consistency\n",
        "text_normalized = normalize(text)\n",
        "text_normalized"
      ]
    },
    {
      "cell_type": "code",
      "execution_count": 3,
      "metadata": {
        "id": "0IFT3CONWig7"
      },
      "outputs": [
        {
          "data": {
            "text/plain": [
              "['สวัสดี', 'ครับ', ' ', 'วันนี้', 'อากาศ', 'ดี', 'มา', 'กก', 'ๆ']"
            ]
          },
          "execution_count": 3,
          "metadata": {},
          "output_type": "execute_result"
        }
      ],
      "source": [
        "# Tokenization and word segmentation: Split text into words (default engine is 'newmm')\n",
        "tokens = word_tokenize(text_normalized)\n",
        "tokens"
      ]
    },
    {
      "cell_type": "code",
      "execution_count": null,
      "metadata": {
        "id": "IH-QcoqPWvS7"
      },
      "outputs": [
        {
          "data": {
            "text/plain": [
              "['สวัสดี', ' ', 'อากาศ', 'ดี', 'กก']"
            ]
          },
          "execution_count": 4,
          "metadata": {},
          "output_type": "execute_result"
        }
      ],
      "source": [
        "# Remove stopwords\n",
        "stopwords = thai_stopwords()\n",
        "tokens_without_stopwords = [word for word in tokens if word not in stopwords]\n",
        "tokens_without_stopwords"
      ]
    },
    {
      "cell_type": "code",
      "execution_count": null,
      "metadata": {
        "id": "yWzaSZy_IXzU"
      },
      "outputs": [
        {
          "data": {
            "text/plain": [
              "[('สวัสดี', 'NCMN'),\n",
              " (' ', 'PUNC'),\n",
              " ('อากาศ', 'NCMN'),\n",
              " ('ดี', 'VATT'),\n",
              " ('กก', 'ADVN')]"
            ]
          },
          "execution_count": 5,
          "metadata": {},
          "output_type": "execute_result"
        }
      ],
      "source": [
        "# Part-of-Speech Tagging\n",
        "pos_tags = pos_tag(tokens_without_stopwords)\n",
        "pos_tags"
      ]
    },
    {
      "cell_type": "markdown",
      "metadata": {
        "id": "xl30ovD-J98O"
      },
      "source": [
        "This code snippet performs the following steps:\n",
        "* Normalizes the text to a consistent form.\n",
        "* Tokenizes the text into words.  Tokenization in Thai is mainly about word segmentation due to the absence of space between words.\n",
        "* Removes stopwords, which are words that usually carry no significant meaning by themselves.\n",
        "* Tags each word with its part-of-speech.\n",
        "\n",
        "Unfortunately, as mentioned earlier, stemming is not a typical process in Thai text processing because words do not have the same kind of morphological variations as in languages like English. Therefore, the process usually stops at word segmentation and part-of-speech tagging.\n"
      ]
    },
    {
      "cell_type": "code",
      "execution_count": null,
      "metadata": {
        "id": "NPKH2XHQKfQa"
      },
      "outputs": [],
      "source": []
    }
  ],
  "metadata": {
    "colab": {
      "authorship_tag": "ABX9TyP5ueTTt9D46GzOzqB7Q2Xm",
      "include_colab_link": true,
      "provenance": []
    },
    "kernelspec": {
      "display_name": "Python 3",
      "name": "python3"
    },
    "language_info": {
      "codemirror_mode": {
        "name": "ipython",
        "version": 3
      },
      "file_extension": ".py",
      "mimetype": "text/x-python",
      "name": "python",
      "nbconvert_exporter": "python",
      "pygments_lexer": "ipython3",
      "version": "3.12.3"
    }
  },
  "nbformat": 4,
  "nbformat_minor": 0
}
