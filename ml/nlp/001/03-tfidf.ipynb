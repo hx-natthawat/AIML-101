{
  "cells": [
    {
      "cell_type": "markdown",
      "metadata": {
        "colab_type": "text",
        "id": "view-in-github"
      },
      "source": [
        "<a href=\"https://colab.research.google.com/github/toche7/AI_ITM/blob/main/Lab12_TFIDF.ipynb\" target=\"_parent\"><img src=\"https://colab.research.google.com/assets/colab-badge.svg\" alt=\"Open In Colab\"/></a>"
      ]
    },
    {
      "cell_type": "code",
      "execution_count": 1,
      "metadata": {
        "id": "LL3Kp-UOQb0r"
      },
      "outputs": [],
      "source": [
        "from sklearn.feature_extraction.text import TfidfVectorizer\n",
        "\n",
        "# Sample set of documents\n",
        "docs = [\n",
        "    \"the sky is blue\",\n",
        "    \"sky is blue and sky is beautiful\",\n",
        "    \"the beautiful sky is so blue\",\n",
        "    \"I love blue cheese\"\n",
        "]"
      ]
    },
    {
      "cell_type": "code",
      "execution_count": 2,
      "metadata": {
        "id": "37t-n9dxQdbV"
      },
      "outputs": [],
      "source": [
        "# Create the vectorizer and compute the TF-IDF matrix\n",
        "tfidfvectorizer = TfidfVectorizer()\n",
        "\n",
        "# Fit the model and transform the documents\n",
        "tfidf_wm = tfidfvectorizer.fit_transform(docs)"
      ]
    },
    {
      "cell_type": "code",
      "execution_count": 3,
      "metadata": {
        "id": "C-Xz4ZlI1MKD"
      },
      "outputs": [
        {
          "name": "stdout",
          "output_type": "stream",
          "text": [
            "  (0, 2)\t0.3992102058196136\n",
            "  (0, 4)\t0.4882913888670788\n",
            "  (0, 6)\t0.4882913888670788\n",
            "  (0, 8)\t0.6031370082211672\n",
            "  (1, 1)\t0.3473079263825201\n",
            "  (1, 0)\t0.44051606615876376\n",
            "  (1, 2)\t0.22987955785181605\n",
            "  (1, 4)\t0.5623513975308212\n",
            "  (1, 6)\t0.5623513975308212\n",
            "  (2, 7)\t0.5479699188774512\n",
            "  (2, 1)\t0.4320257780944028\n",
            "  (2, 2)\t0.2859534358554926\n",
            "  (2, 4)\t0.34976210104278727\n",
            "  (2, 6)\t0.34976210104278727\n",
            "  (2, 8)\t0.4320257780944028\n",
            "  (3, 3)\t0.6633846138519129\n",
            "  (3, 5)\t0.6633846138519129\n",
            "  (3, 2)\t0.34618161159873423\n"
          ]
        }
      ],
      "source": [
        "print(tfidf_wm)"
      ]
    },
    {
      "cell_type": "code",
      "execution_count": 4,
      "metadata": {
        "id": "S7n7nisTQpvG"
      },
      "outputs": [
        {
          "data": {
            "text/plain": [
              "array(['and', 'beautiful', 'blue', 'cheese', 'is', 'love', 'sky', 'so',\n",
              "       'the'], dtype=object)"
            ]
          },
          "execution_count": 4,
          "metadata": {},
          "output_type": "execute_result"
        }
      ],
      "source": [
        "# Retrieve the terms found in the corpus\n",
        "tfidf_tokens = tfidfvectorizer.get_feature_names_out()\n",
        "tfidf_tokens\n"
      ]
    },
    {
      "cell_type": "code",
      "execution_count": 5,
      "metadata": {
        "id": "7yb1uLkjNdNk"
      },
      "outputs": [
        {
          "name": "stdout",
          "output_type": "stream",
          "text": [
            "           and  beautiful      blue    cheese        is      love       sky  \\\n",
            "Doc1  0.000000   0.000000  0.399210  0.000000  0.488291  0.000000  0.488291   \n",
            "Doc2  0.440516   0.347308  0.229880  0.000000  0.562351  0.000000  0.562351   \n",
            "Doc3  0.000000   0.432026  0.285953  0.000000  0.349762  0.000000  0.349762   \n",
            "Doc4  0.000000   0.000000  0.346182  0.663385  0.000000  0.663385  0.000000   \n",
            "\n",
            "           so       the  \n",
            "Doc1  0.00000  0.603137  \n",
            "Doc2  0.00000  0.000000  \n",
            "Doc3  0.54797  0.432026  \n",
            "Doc4  0.00000  0.000000  \n"
          ]
        }
      ],
      "source": [
        "# Create a DataFrame for easy viewing\n",
        "import pandas as pd\n",
        "df_tfidfvect = pd.DataFrame(data = tfidf_wm.toarray(),index = ['Doc1','Doc2', 'Doc3', 'Doc4'],columns = tfidf_tokens)\n",
        "\n",
        "# View the TF-IDF DataFrame\n",
        "print(df_tfidfvect)\n"
      ]
    },
    {
      "cell_type": "code",
      "execution_count": null,
      "metadata": {
        "id": "mlEh4nHjOKSZ"
      },
      "outputs": [],
      "source": []
    },
    {
      "cell_type": "markdown",
      "metadata": {
        "id": "NQJYAWCDRiMZ"
      },
      "source": [
        "This code snippet performs the following steps:\n",
        "\n",
        "1. It initializes a list of strings where each string represents a document.\n",
        "2. It creates a TfidfVectorizer object to convert the text documents to a matrix of TF-IDF features.\n",
        "3. It fits to the data and then transforms our documents into the TF-IDF matrix.\n",
        "4. It retrieves the tokens (words) that have been found in all the documents.\n",
        "5. It creates a pandas DataFrame to display the TF-IDF scores in a tabular format, with documents as rows and words as columns.\n",
        "\n",
        "The resulting DataFrame df_tfidfvect contains the TF-IDF scores for each word in each document. High scores indicate words that are more relevant to the document, while lower scores indicate words that are less relevant. Words that appear across many documents will have lower scores because of the IDF component, which penalizes common words."
      ]
    }
  ],
  "metadata": {
    "colab": {
      "authorship_tag": "ABX9TyPNt/+R1QUsaoJSyQRghpHl",
      "include_colab_link": true,
      "provenance": []
    },
    "kernelspec": {
      "display_name": "Python 3",
      "name": "python3"
    },
    "language_info": {
      "codemirror_mode": {
        "name": "ipython",
        "version": 3
      },
      "file_extension": ".py",
      "mimetype": "text/x-python",
      "name": "python",
      "nbconvert_exporter": "python",
      "pygments_lexer": "ipython3",
      "version": "3.12.3"
    }
  },
  "nbformat": 4,
  "nbformat_minor": 0
}
