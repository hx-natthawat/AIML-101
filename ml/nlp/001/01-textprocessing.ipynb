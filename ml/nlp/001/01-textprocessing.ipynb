{
  "cells": [
    {
      "cell_type": "markdown",
      "metadata": {
        "colab_type": "text",
        "id": "view-in-github"
      },
      "source": [
        "<a href=\"https://colab.research.google.com/github/toche7/AI_ITM/blob/main/Lab10_ExampleNLTK.ipynb\" target=\"_parent\"><img src=\"https://colab.research.google.com/assets/colab-badge.svg\" alt=\"Open In Colab\"/></a>"
      ]
    },
    {
      "cell_type": "code",
      "execution_count": 7,
      "metadata": {
        "id": "D1jCw7MK_ijJ"
      },
      "outputs": [],
      "source": [
        "text = \"It's been a long day at work, and now I'm finally home. Home, sweet home! The weather was quite bad: rainy and windy, but it didn't dampen my spirits.\"\n"
      ]
    },
    {
      "cell_type": "code",
      "execution_count": 11,
      "metadata": {
        "id": "4GgjGYHRFwWL"
      },
      "outputs": [
        {
          "name": "stderr",
          "output_type": "stream",
          "text": [
            "[nltk_data] Downloading package punkt to\n",
            "[nltk_data]     /Users/natthawatboonchaiseree/nltk_data...\n",
            "[nltk_data]   Package punkt is already up-to-date!\n",
            "[nltk_data] Downloading package averaged_perceptron_tagger to\n",
            "[nltk_data]     /Users/natthawatboonchaiseree/nltk_data...\n",
            "[nltk_data]   Package averaged_perceptron_tagger is already up-to-\n",
            "[nltk_data]       date!\n",
            "[nltk_data] Downloading package stopwords to\n",
            "[nltk_data]     /Users/natthawatboonchaiseree/nltk_data...\n",
            "[nltk_data]   Package stopwords is already up-to-date!\n"
          ]
        },
        {
          "data": {
            "text/plain": [
              "True"
            ]
          },
          "execution_count": 11,
          "metadata": {},
          "output_type": "execute_result"
        }
      ],
      "source": [
        "import nltk\n",
        "from nltk.tokenize import sent_tokenize, word_tokenize\n",
        "from nltk.corpus import stopwords\n",
        "from nltk.stem import PorterStemmer\n",
        "from nltk.tag import pos_tag\n",
        "import string\n",
        "\n",
        "# First-time use: download necessary NLTK data\n",
        "nltk.download('punkt') ## a pre-trained model used for tokenization.\n",
        "nltk.download('averaged_perceptron_tagger') #for Part-of-Speech (POS) tagging\n",
        "nltk.download('stopwords') #  a list of stop words."
      ]
    },
    {
      "cell_type": "code",
      "execution_count": 12,
      "metadata": {
        "id": "CjR2pIu-GAn6"
      },
      "outputs": [
        {
          "name": "stdout",
          "output_type": "stream",
          "text": [
            "Original Text: It's been a long day at work, and now I'm finally home. Home, sweet home! The weather was quite bad: rainy and windy, but it didn't dampen my spirits.\n",
            "Cleaned Text: its been a long day at work and now im finally home home sweet home the weather was quite bad rainy and windy but it didnt dampen my spirits\n"
          ]
        }
      ],
      "source": [
        "# Cleaning\n",
        "# Convert to lowercase and remove punctuation\n",
        "text_clean = text.lower().translate(str.maketrans('', '', string.punctuation))\n",
        "print(\"Original Text:\", text)\n",
        "print(\"Cleaned Text:\", text_clean)"
      ]
    },
    {
      "cell_type": "code",
      "execution_count": 13,
      "metadata": {
        "id": "B7ThSV_9GYnh"
      },
      "outputs": [
        {
          "name": "stdout",
          "output_type": "stream",
          "text": [
            "Tokenized Sentences: ['its been a long day at work and now im finally home home sweet home the weather was quite bad rainy and windy but it didnt dampen my spirits']\n",
            "Tokenized Words: [['its', 'been', 'a', 'long', 'day', 'at', 'work', 'and', 'now', 'im', 'finally', 'home', 'home', 'sweet', 'home', 'the', 'weather', 'was', 'quite', 'bad', 'rainy', 'and', 'windy', 'but', 'it', 'didnt', 'dampen', 'my', 'spirits']]\n"
          ]
        }
      ],
      "source": [
        "# Tokenization\n",
        "# Split into sentences\n",
        "sentences = sent_tokenize(text_clean)\n",
        "# Split into words\n",
        "words = [word_tokenize(sentence) for sentence in sentences]\n",
        "print(\"Tokenized Sentences:\", sentences)\n",
        "print(\"Tokenized Words:\", words)"
      ]
    },
    {
      "cell_type": "code",
      "execution_count": 14,
      "metadata": {
        "id": "wx-aHDsDGmhE"
      },
      "outputs": [
        {
          "name": "stdout",
          "output_type": "stream",
          "text": [
            "POS Tagged Words: [[('its', 'PRP$'), ('been', 'VBN'), ('a', 'DT'), ('long', 'JJ'), ('day', 'NN'), ('at', 'IN'), ('work', 'NN'), ('and', 'CC'), ('now', 'RB'), ('im', 'VBP'), ('finally', 'RB'), ('home', 'VBN'), ('home', 'NN'), ('sweet', 'NN'), ('home', 'VBD'), ('the', 'DT'), ('weather', 'NN'), ('was', 'VBD'), ('quite', 'RB'), ('bad', 'JJ'), ('rainy', 'NN'), ('and', 'CC'), ('windy', 'NN'), ('but', 'CC'), ('it', 'PRP'), ('didnt', 'VBZ'), ('dampen', 'JJ'), ('my', 'PRP$'), ('spirits', 'NNS')]]\n"
          ]
        }
      ],
      "source": [
        "# Parsing (Part-of-Speech Tagging)\n",
        "tagged_words = [pos_tag(word) for word in words]\n",
        "print(\"POS Tagged Words:\", tagged_words)"
      ]
    },
    {
      "cell_type": "code",
      "execution_count": 15,
      "metadata": {
        "id": "3EkBknM2G4-C"
      },
      "outputs": [
        {
          "name": "stdout",
          "output_type": "stream",
          "text": [
            "Filtered Words: [['long', 'day', 'work', 'im', 'finally', 'home', 'home', 'sweet', 'home', 'weather', 'quite', 'bad', 'rainy', 'windy', 'didnt', 'dampen', 'spirits']]\n"
          ]
        }
      ],
      "source": [
        "# Stopwords Removal\n",
        "stop_words = set(stopwords.words('english'))\n",
        "filtered_words = [[word for word in word_list if word not in stop_words] for word_list in words]\n",
        "print(\"Filtered Words:\", filtered_words)"
      ]
    },
    {
      "cell_type": "code",
      "execution_count": 16,
      "metadata": {
        "id": "FpaOa3Zj_lkH"
      },
      "outputs": [
        {
          "name": "stdout",
          "output_type": "stream",
          "text": [
            "Stemmed Words: [['long', 'day', 'work', 'im', 'final', 'home', 'home', 'sweet', 'home', 'weather', 'quit', 'bad', 'raini', 'windi', 'didnt', 'dampen', 'spirit']]\n"
          ]
        }
      ],
      "source": [
        "# Stemming\n",
        "stemmer = PorterStemmer()\n",
        "stemmed_words = [[stemmer.stem(word) for word in word_list] for word_list in filtered_words]\n",
        "print(\"Stemmed Words:\", stemmed_words)\n"
      ]
    },
    {
      "cell_type": "markdown",
      "metadata": {},
      "source": []
    }
  ],
  "metadata": {
    "colab": {
      "authorship_tag": "ABX9TyNoU4vLn5iuIfzlqSHdTBP1",
      "include_colab_link": true,
      "provenance": []
    },
    "kernelspec": {
      "display_name": "Python 3",
      "name": "python3"
    },
    "language_info": {
      "codemirror_mode": {
        "name": "ipython",
        "version": 3
      },
      "file_extension": ".py",
      "mimetype": "text/x-python",
      "name": "python",
      "nbconvert_exporter": "python",
      "pygments_lexer": "ipython3",
      "version": "3.12.3"
    }
  },
  "nbformat": 4,
  "nbformat_minor": 0
}
