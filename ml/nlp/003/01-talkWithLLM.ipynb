{
  "cells": [
    {
      "cell_type": "markdown",
      "metadata": {
        "colab_type": "text",
        "id": "view-in-github"
      },
      "source": [
        "<a href=\"https://colab.research.google.com/github/toche7/PromptEngforDeveloper/blob/main/PromptLab0_GroqTest.ipynb\" target=\"_parent\"><img src=\"https://colab.research.google.com/assets/colab-badge.svg\" alt=\"Open In Colab\"/></a>"
      ]
    },
    {
      "cell_type": "markdown",
      "metadata": {
        "id": "KopEVSDEZrbf"
      },
      "source": [
        "# Test Groq Server  with LLama3"
      ]
    },
    {
      "cell_type": "code",
      "execution_count": 3,
      "metadata": {
        "id": "5HaN2FinZrbf"
      },
      "outputs": [
        {
          "name": "stdout",
          "output_type": "stream",
          "text": [
            "Requirement already satisfied: python-dotenv in /Users/natthawatboonchaiseree/.pyenv/versions/3.12.3/lib/python3.12/site-packages (1.0.0)\n"
          ]
        }
      ],
      "source": [
        "!pip -q install groq\n",
        "!pip install python-dotenv"
      ]
    },
    {
      "cell_type": "code",
      "execution_count": 4,
      "metadata": {
        "id": "ER1_45R1Zrbg"
      },
      "outputs": [],
      "source": [
        "#=========VSCode=====================================================================\n",
        "from dotenv import find_dotenv, load_dotenv\n",
        "_ = load_dotenv(find_dotenv())\n",
        "import os\n",
        "secret_key = os.environ.get(\"GROQ_API_KEY\")\n",
        "#========google.colab======================================================================\n",
        "# from google.colab import userdata\n",
        "# secret_key = userdata.get('GROQ_API_KEY')"
      ]
    },
    {
      "cell_type": "markdown",
      "metadata": {
        "id": "g57fnXPSZrbg"
      },
      "source": [
        "\n",
        "### API Key\n",
        "You need to get GROQ_API_KEY from the following website.\n",
        "\n",
        "https://console.groq.com/\n"
      ]
    },
    {
      "cell_type": "code",
      "execution_count": 5,
      "metadata": {
        "id": "jMpTXHWBZrbh"
      },
      "outputs": [],
      "source": [
        "from groq import Groq\n",
        "\n",
        "clientGroq = Groq(\n",
        "    api_key= secret_key,\n",
        ")\n"
      ]
    },
    {
      "cell_type": "markdown",
      "metadata": {
        "id": "F97Vys4WZrbh"
      },
      "source": []
    },
    {
      "cell_type": "code",
      "execution_count": 6,
      "metadata": {
        "id": "wMv-Hzp6Zrbh"
      },
      "outputs": [],
      "source": [
        "def get_completion(prompt, model= \"llama3-70b-8192\", clientGroq = clientGroq):\n",
        "    messages = [{\"role\": \"user\", \"content\": prompt}]\n",
        "    response = clientGroq.chat.completions.create(\n",
        "        model=model,\n",
        "        messages=messages,\n",
        "        temperature=0,\n",
        "        max_tokens= 4000,\n",
        "        top_p = 0.5\n",
        "    )\n",
        "    return response.choices[0].message.content\n"
      ]
    },
    {
      "cell_type": "code",
      "execution_count": 7,
      "metadata": {
        "id": "9Z1EOMnyZrbh"
      },
      "outputs": [
        {
          "data": {
            "text/plain": [
              "'The capital of France is Paris.'"
            ]
          },
          "execution_count": 7,
          "metadata": {},
          "output_type": "execute_result"
        }
      ],
      "source": [
        "get_completion(\"What is the capital of France?\")"
      ]
    },
    {
      "cell_type": "code",
      "execution_count": 8,
      "metadata": {
        "id": "KCGGErXdZrbh"
      },
      "outputs": [
        {
          "data": {
            "text/plain": [
              "'เกาะพีพี (Koh Phi Phi) อยู่ในประเทศไทย (Thailand)'"
            ]
          },
          "execution_count": 8,
          "metadata": {},
          "output_type": "execute_result"
        }
      ],
      "source": [
        "get_completion(\"เกาะพีพีอยู่ประเทศอะไร\")"
      ]
    },
    {
      "cell_type": "code",
      "execution_count": 9,
      "metadata": {
        "id": "pHvnQlCcZrbi"
      },
      "outputs": [
        {
          "name": "stdout",
          "output_type": "stream",
          "text": [
            "Here is a summary of the text in Thai for a Facebook post with emojis:\n",
            "\n",
            "\"ไทยกำลังก้าวสู่ศูนย์กลางเศรษฐกิจดิจิทัล! 🚀💻 นายประเสริฐ จันทรรวงทอง รัฐมนตรีว่าการกระทรวงดิจิทัลเพื่อเศรษฐกิจและสังคม กล่าวว่า ในงาน Thailand Vision จะนำไทยสู่ศูนย์กลางเมืองแห่งอุตสาหกรรมระดับโลก พร้อมสางกฎหมาย ดึง Deep Tech ลงทุน ปั้นสตาร์ตอัพไทยรุกเพื่อนบ้านหวังให้มียูนิคอร์น 🦄️ #ThailandVision #DigitalEconomyHub #StartUpThailand\"\n",
            "\n",
            "Translation:\n",
            "\"Thailand is moving towards becoming a digital economic hub! 🚀💻 Mr. Prasert Chanruangthong, Minister of Digital Economy and Society, said that in the Thailand Vision project, Thailand will become a global industrial city, with laws and regulations in place to attract Deep Tech investments and create startup unicorns 🦄️ #ThailandVision #DigitalEconomyHub #StartUpThailand\"\n"
          ]
        }
      ],
      "source": [
        "text = f\"\"\"\n",
        "ประเสริฐ” รับลูกนายกฯ ในงาน Thailand Vision เดินหน้านำไทยเป็นศูนย์กลางเศรษฐกิจดิจิทัล พร้อมสางกฎหมาย ดึง Deep Tech\n",
        "ลงทุน ปั้นสตาร์ตอัพไทยรุกเพื่อนบ้านหวังให้มียูนิคอร์น\n",
        "\n",
        "วันที่ 23 กุมภาพันธ์ 2567 นายประเสริฐ จันทรรวงทอง รัฐมนตรีว่าการกระทรวงดิจิทัลเพื่อเศรษฐกิจและสังคม (ดีอี) กล่าวว่า\n",
        "ในงานแถลงวิสัยทัศน์ Thailand Vision ที่ทำเนียบรัฐบาล ของนายเศรษฐา ทวีสิน นายกรัฐมนตรี\n",
        "ที่มุ่งเป้าพัฒนาประเทศไทยให้กลายเป็นศูนย์กลางเมืองแห่งอุตสาหกรรมระดับโลก ขับเคลื่อนเศรษฐกิจไทยสู่อนาคตที่ยั่งยืน\n",
        "\n",
        "เงินอุดหนุนนักเรียน 2567 ช่วยค่าชุด-หนังสือเรียน อนุบาล-ปวช. ได้เท่าไร\n",
        "สถิติหวย ตรวจหวย ผลสลากกินแบ่งรัฐบาล งวด 16 พ.ค. ย้อนหลัง 10 ปี\n",
        "แจกเงินดิจิทัล 10,000 ลุ้นซื้อมือถือ-เครื่องใช้ไฟฟ้า “จุลพันธ์” นัดถกสัปดาห์หน้า\n",
        "ครอบคลุมทั้งการท่องเที่ยวการรักษาพยาบาลและสุขภาพอาหาร การบิน การผลิตยานยนต์แห่งอนาคต เทคโนโลยี และการเงิน\n",
        "โดยการแถลงวิสัยทัศน์ครั้งนี้ นายกรัฐมนตรีได้กล่าวถึงนโยบายที่เกี่ยวข้องกับกระทรวงดีอีโดยตรง คือ การนำคลาวด์มาให้บริการประชาชน\n",
        "การมุ่งสู่รัฐบาลดิจิทัล การเสริมสร้างทักษะดิจิทัล การสร้างคนและส่งเสริมโอกาสให้เติบโตได้ในประเทศของตนเอง\n",
        "การดึงการลงทุนด้านเทคโนโลยี และได้ยกวิสัยทัศน์ การเป็นศูนย์กลางเศรษฐกิจดิจิทัล (Digital Economy Hub)...\n",
        "อ่านข่าวต้นฉบับได้ที่ : https://www.prachachat.net/ict/news-1508930\n",
        "\n",
        "\"\"\"\n",
        "prompt = f\"\"\"\n",
        "Summarize the text delimited by triple backticks \\\n",
        "into Thai for facebook post with emoji.\n",
        "```{text}```\n",
        "\"\"\"\n",
        "response = get_completion(prompt)\n",
        "print(response)"
      ]
    },
    {
      "cell_type": "code",
      "execution_count": null,
      "metadata": {
        "id": "H5z2xcIbZrbi"
      },
      "outputs": [],
      "source": []
    }
  ],
  "metadata": {
    "colab": {
      "include_colab_link": true,
      "provenance": []
    },
    "kernelspec": {
      "display_name": "Python 3",
      "language": "python",
      "name": "python3"
    },
    "language_info": {
      "codemirror_mode": {
        "name": "ipython",
        "version": 3
      },
      "file_extension": ".py",
      "mimetype": "text/x-python",
      "name": "python",
      "nbconvert_exporter": "python",
      "pygments_lexer": "ipython3",
      "version": "3.12.3"
    }
  },
  "nbformat": 4,
  "nbformat_minor": 0
}
